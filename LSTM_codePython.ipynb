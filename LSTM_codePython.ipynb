{
 "cells": [
  {
   "cell_type": "code",
   "execution_count": 1,
   "id": "680d94d2",
   "metadata": {},
   "outputs": [],
   "source": [
    "import pandas as pd\n",
    "\n",
    "# Load the data from the .csv file\n",
    "choice_dat = pd.read_csv(\"/Users/kavyamuraliparthasarathy/Downloads/data/choice_data.csv\")"
   ]
  },
  {
   "cell_type": "code",
   "execution_count": 2,
   "id": "db6c47d8",
   "metadata": {},
   "outputs": [],
   "source": [
    "choice_dat['action'] = choice_dat['choice'].apply(lambda x: 0 if x == \"Stay in lane\" else 1)"
   ]
  },
  {
   "cell_type": "code",
   "execution_count": 3,
   "id": "102ff0ae",
   "metadata": {},
   "outputs": [],
   "source": [
    "import numpy as np\n",
    "import tensorflow as tf\n",
    "from tensorflow.keras.models import Sequential\n",
    "from tensorflow.keras.layers import LSTM, Dense\n",
    "from sklearn.model_selection import train_test_split\n",
    "\n",
    "# Extract relevant features from the dataset\n",
    "features = ['choice', 'treat.time', 'num.potholes.stay', 'prob.stop.stay', 'num.potholes.change', 'prob.stop.change']\n",
    "\n",
    "# DataFrame\n",
    "X = choice_dat[features].values\n",
    "y = choice_dat['action'].values\n",
    "\n",
    "# Reshape data for sequence format (assuming a sequence length of 5 )\n",
    "sequence_length = 5\n",
    "X_sequences = np.array([X[i:i+sequence_length] for i in range(X.shape[0] - sequence_length)])\n",
    "y_sequences = y[sequence_length:]\n",
    "\n",
    "# Split the data into training and test sets\n",
    "X_train, X_test, y_train, y_test = train_test_split(X_sequences, y_sequences, test_size=0.2, random_state=42)\n"
   ]
  },
  {
   "cell_type": "code",
   "execution_count": 4,
   "id": "999aff70",
   "metadata": {},
   "outputs": [],
   "source": [
    "# Define the LSTM model\n",
    "model = Sequential()\n",
    "model.add(LSTM(50, activation='relu', input_shape=(None, X_train.shape[2])))\n",
    "model.add(Dense(1, activation='sigmoid'))\n",
    "model.compile(optimizer='adam', loss='binary_crossentropy', metrics=['accuracy'])\n"
   ]
  },
  {
   "cell_type": "code",
   "execution_count": 5,
   "id": "483a8f19",
   "metadata": {},
   "outputs": [
    {
     "name": "stdout",
     "output_type": "stream",
     "text": [
      "Unique non-numeric values in X_train: {'Change lane', '5 seconds limit', '30 seconds limit', 'No time limit', '20 seconds limit', '25 seconds limit', '10 seconds limit', '60 seconds limit', '15 seconds limit', 'Stay in lane', 'No choice made'}\n"
     ]
    }
   ],
   "source": [
    "non_numeric_entries = []\n",
    "\n",
    "# Iterate through the elements of X_train\n",
    "for row in X_train:\n",
    "    for sublist in row:\n",
    "        for item in sublist:\n",
    "            if not isinstance(item, (int, float)):\n",
    "                non_numeric_entries.append(item)\n",
    "\n",
    "# Convert to a set to get unique non-numeric entries\n",
    "unique_non_numeric = set(non_numeric_entries)\n",
    "\n",
    "print(\"Unique non-numeric values in X_train:\", unique_non_numeric)"
   ]
  },
  {
   "cell_type": "code",
   "execution_count": 7,
   "id": "f8d7600d",
   "metadata": {},
   "outputs": [],
   "source": [
    " #Reshape X_train to combine the first two dimensions\n",
    "X_train_2d = X_train.reshape(-1, X_train.shape[-1])\n",
    "\n",
    "# Convert the reshaped X_train to a DataFrame\n",
    "df_X_train_2d = pd.DataFrame(X_train_2d)\n",
    "\n",
    "# One-hot encode the categorical columns\n",
    "df_encoded_2d = pd.get_dummies(df_X_train_2d)\n",
    "\n",
    "# Convert back to an array\n",
    "X_train_encoded_2d = df_encoded_2d.values\n",
    "\n",
    "# Reshape the data to its original three-dimensional form\n",
    "X_train_encoded = X_train_encoded_2d.reshape(X_train.shape[0], X_train.shape[1], -1)\n"
   ]
  },
  {
   "cell_type": "code",
   "execution_count": 8,
   "id": "743ea45b",
   "metadata": {},
   "outputs": [
    {
     "name": "stdout",
     "output_type": "stream",
     "text": [
      "Epoch 1/20\n",
      "1028/1028 [==============================] - 2s 1ms/step - loss: 0.2229 - accuracy: 0.9415 - val_loss: 0.1813 - val_accuracy: 0.9553\n",
      "Epoch 2/20\n",
      "1028/1028 [==============================] - 1s 1ms/step - loss: 0.1741 - accuracy: 0.9579 - val_loss: 0.1777 - val_accuracy: 0.9551\n",
      "Epoch 3/20\n",
      "1028/1028 [==============================] - 1s 1ms/step - loss: 0.1712 - accuracy: 0.9579 - val_loss: 0.1781 - val_accuracy: 0.9554\n",
      "Epoch 4/20\n",
      "1028/1028 [==============================] - 1s 1ms/step - loss: 0.1701 - accuracy: 0.9581 - val_loss: 0.1784 - val_accuracy: 0.9555\n",
      "Epoch 5/20\n",
      "1028/1028 [==============================] - 1s 1ms/step - loss: 0.1692 - accuracy: 0.9581 - val_loss: 0.1766 - val_accuracy: 0.9555\n",
      "Epoch 6/20\n",
      "1028/1028 [==============================] - 1s 1ms/step - loss: 0.1683 - accuracy: 0.9581 - val_loss: 0.1797 - val_accuracy: 0.9555\n",
      "Epoch 7/20\n",
      "1028/1028 [==============================] - 1s 1ms/step - loss: 0.1675 - accuracy: 0.9581 - val_loss: 0.1775 - val_accuracy: 0.9554\n",
      "Epoch 8/20\n",
      "1028/1028 [==============================] - 1s 1ms/step - loss: 0.1673 - accuracy: 0.9581 - val_loss: 0.1742 - val_accuracy: 0.9555\n",
      "Epoch 9/20\n",
      "1028/1028 [==============================] - 1s 1ms/step - loss: 0.1667 - accuracy: 0.9581 - val_loss: 0.1750 - val_accuracy: 0.9555\n",
      "Epoch 10/20\n",
      "1028/1028 [==============================] - 1s 1ms/step - loss: 0.1651 - accuracy: 0.9581 - val_loss: 0.1742 - val_accuracy: 0.9555\n",
      "Epoch 11/20\n",
      "1028/1028 [==============================] - 1s 1ms/step - loss: 0.1649 - accuracy: 0.9581 - val_loss: 0.1737 - val_accuracy: 0.9555\n",
      "Epoch 12/20\n",
      "1028/1028 [==============================] - 1s 1ms/step - loss: 0.1640 - accuracy: 0.9581 - val_loss: 0.1717 - val_accuracy: 0.9555\n",
      "Epoch 13/20\n",
      "1028/1028 [==============================] - 1s 1ms/step - loss: 0.1630 - accuracy: 0.9581 - val_loss: 0.1734 - val_accuracy: 0.9555\n",
      "Epoch 14/20\n",
      "1028/1028 [==============================] - 1s 1ms/step - loss: 0.1617 - accuracy: 0.9581 - val_loss: 0.1707 - val_accuracy: 0.9555\n",
      "Epoch 15/20\n",
      "1028/1028 [==============================] - 1s 1ms/step - loss: 0.1612 - accuracy: 0.9581 - val_loss: 0.1721 - val_accuracy: 0.9555\n",
      "Epoch 16/20\n",
      "1028/1028 [==============================] - 1s 1ms/step - loss: 0.1605 - accuracy: 0.9581 - val_loss: 0.1706 - val_accuracy: 0.9555\n",
      "Epoch 17/20\n",
      "1028/1028 [==============================] - 1s 1ms/step - loss: 0.1601 - accuracy: 0.9581 - val_loss: 0.1699 - val_accuracy: 0.9555\n",
      "Epoch 18/20\n",
      "1028/1028 [==============================] - 1s 1ms/step - loss: 0.1591 - accuracy: 0.9581 - val_loss: 0.1682 - val_accuracy: 0.9555\n",
      "Epoch 19/20\n",
      "1028/1028 [==============================] - 1s 1ms/step - loss: 0.1586 - accuracy: 0.9581 - val_loss: 0.1708 - val_accuracy: 0.9555\n",
      "Epoch 20/20\n",
      "1028/1028 [==============================] - 1s 1ms/step - loss: 0.1582 - accuracy: 0.9581 - val_loss: 0.1673 - val_accuracy: 0.9555\n"
     ]
    },
    {
     "data": {
      "text/plain": [
       "<keras.src.callbacks.History at 0x302802210>"
      ]
     },
     "execution_count": 8,
     "metadata": {},
     "output_type": "execute_result"
    }
   ],
   "source": [
    "model = Sequential()\n",
    "model.add(LSTM(50, activation='relu', input_shape=(None, X_train_encoded.shape[2])))\n",
    "model.add(Dense(1, activation='sigmoid'))\n",
    "model.compile(optimizer='adam', loss='binary_crossentropy', metrics=['accuracy'])\n",
    "\n",
    "# Train the model\n",
    "\n",
    "model.fit(X_train_encoded, y_train, epochs=20, validation_split=0.2, verbose=1)\n"
   ]
  },
  {
   "cell_type": "code",
   "execution_count": 9,
   "id": "5974d280",
   "metadata": {},
   "outputs": [],
   "source": [
    "import pandas as pd\n",
    "from sklearn.preprocessing import OneHotEncoder"
   ]
  },
  {
   "cell_type": "code",
   "execution_count": 10,
   "id": "6bd4b51d",
   "metadata": {},
   "outputs": [],
   "source": [
    "# Reshaping X_test to combine the first two dimensions for encoding\n",
    "X_test_2d = X_test.reshape(-1, X_test.shape[-1])"
   ]
  },
  {
   "cell_type": "code",
   "execution_count": 11,
   "id": "078d6ee2",
   "metadata": {},
   "outputs": [],
   "source": [
    "# Converting the reshaped X_test to a DataFrame\n",
    "df_X_test_2d = pd.DataFrame(X_test_2d)"
   ]
  },
  {
   "cell_type": "code",
   "execution_count": 12,
   "id": "1bff2c4d",
   "metadata": {},
   "outputs": [],
   "source": [
    "df_encoded_test_2d = pd.get_dummies(df_X_test_2d)\n",
    "df_encoded_test_2d = df_encoded_test_2d.reindex(columns=df_encoded_2d.columns, fill_value=0)"
   ]
  },
  {
   "cell_type": "code",
   "execution_count": 13,
   "id": "9cc0cb01",
   "metadata": {},
   "outputs": [],
   "source": [
    "# Reshaping the data to its original three-dimensional form\n",
    "\n",
    "X_test_encoded = df_encoded_test_2d.values.reshape(X_test.shape[0], X_test.shape[1], -1)"
   ]
  },
  {
   "cell_type": "code",
   "execution_count": 14,
   "id": "6c0c4f5b",
   "metadata": {},
   "outputs": [
    {
     "name": "stdout",
     "output_type": "stream",
     "text": [
      "322/322 [==============================] - 0s 421us/step - loss: 0.1618 - accuracy: 0.9582\n",
      "Test Loss: 0.16180261969566345\n",
      "Test Accuracy: 0.9581671357154846\n"
     ]
    }
   ],
   "source": [
    "# Evaluating the model\n",
    "loss, accuracy = model.evaluate(X_test_encoded, y_test, verbose=1)\n",
    "print(f\"Test Loss: {loss}\")\n",
    "print(f\"Test Accuracy: {accuracy}\")\n"
   ]
  },
  {
   "cell_type": "code",
   "execution_count": 15,
   "id": "7a4e4151",
   "metadata": {},
   "outputs": [
    {
     "name": "stdout",
     "output_type": "stream",
     "text": [
      "322/322 [==============================] - 0s 397us/step\n",
      "[[0]\n",
      " [1]\n",
      " [0]\n",
      " [1]\n",
      " [1]]\n"
     ]
    }
   ],
   "source": [
    "# Make predictions\n",
    "predictions = model.predict(X_test_encoded, verbose=1)\n",
    "\n",
    "# If it's a binary classification, convert probabilities to class labels\n",
    "\n",
    "predictions = np.round(predictions).astype(int)\n",
    "\n",
    "#view the first few predictions\n",
    "print(predictions[:5])\n"
   ]
  },
  {
   "cell_type": "code",
   "execution_count": 16,
   "id": "7c9d4479",
   "metadata": {},
   "outputs": [
    {
     "name": "stdout",
     "output_type": "stream",
     "text": [
      "Confusion Matrix:\n",
      "[[4858  228]\n",
      " [ 202 4991]]\n",
      "\n",
      "Classification Report:\n",
      "              precision    recall  f1-score   support\n",
      "\n",
      "           0       0.96      0.96      0.96      5086\n",
      "           1       0.96      0.96      0.96      5193\n",
      "\n",
      "    accuracy                           0.96     10279\n",
      "   macro avg       0.96      0.96      0.96     10279\n",
      "weighted avg       0.96      0.96      0.96     10279\n",
      "\n"
     ]
    }
   ],
   "source": [
    "from sklearn.metrics import confusion_matrix, classification_report\n",
    "\n",
    "conf_matrix = confusion_matrix(y_test, predictions)\n",
    "class_report = classification_report(y_test, predictions)\n",
    "\n",
    "print(\"Confusion Matrix:\")\n",
    "print(conf_matrix)\n",
    "\n",
    "print(\"\\nClassification Report:\")\n",
    "print(class_report)"
   ]
  },
  {
   "cell_type": "code",
   "execution_count": 17,
   "id": "f2e74a58",
   "metadata": {},
   "outputs": [],
   "source": [
    "from sklearn.metrics import roc_curve, auc\n",
    "import matplotlib.pyplot as plt\n",
    "\n",
    "# Assuming y_test and predictions are available in your current environment\n",
    "\n",
    "# Compute ROC curve and ROC area for each class\n",
    "fpr, tpr, _ = roc_curve(y_test, predictions)\n",
    "roc_auc = auc(fpr, tpr)\n",
    "\n",
    "# Plot the ROC curve\n",
    "plt.figure(figsize=(8, 8))\n",
    "plt.plot(fpr, tpr, color='darkorange', lw=2, label='ROC curve (area = %0.2f)' % roc_auc)\n",
    "plt.plot([0, 1], [0, 1], color='navy', linestyle='--')\n",
    "plt.xlim([0.0, 1.0])\n",
    "plt.ylim([0.0, 1.05])\n",
    "plt.xlabel('False Positive Rate', fontsize=16)\n",
    "plt.ylabel('True Positive Rate', fontsize=16)\n",
    "plt.title('Receiver Operating Characteristic', fontsize=18)\n",
    "plt.legend(loc=\"lower right\", fontsize=14)\n",
    "plt.grid(True)\n",
    "\n",
    "plt.savefig('/Users/kavyamuraliparthasarathy/Desktop/Plots/roc_curve.png')  \n",
    "\n",
    "\n",
    "plt.close()  \n",
    "plt.show()  "
   ]
  },
  {
   "cell_type": "code",
   "execution_count": 18,
   "id": "3d2c98c6",
   "metadata": {},
   "outputs": [],
   "source": [
    "from tensorflow.keras.layers import LSTM, Dense\n",
    "from tensorflow.keras.models import Sequential\n",
    "from sklearn.metrics import accuracy_score\n",
    "\n",
    "# Define a function to create the model with different activation functions\n",
    "def create_model(activation_function):\n",
    "    model = Sequential()\n",
    "    \n",
    "    model.add(LSTM(50, activation=activation_function, input_shape=(None, X_train_encoded.shape[2])))\n",
    "    \n",
    "    \n",
    "    model.add(Dense(1, activation='sigmoid'))\n",
    "    model.compile(optimizer='adam', loss='binary_crossentropy', metrics=['accuracy'])\n",
    "    return model\n"
   ]
  },
  {
   "cell_type": "code",
   "execution_count": 19,
   "id": "1ea6e70d",
   "metadata": {},
   "outputs": [],
   "source": [
    "# Activation functions to compare\n",
    "activations = ['relu', 'sigmoid', 'tanh']\n",
    "\n",
    "# Dictionary to store models\n",
    "models = {}\n",
    "\n",
    "# Dictionary to store training histories\n",
    "histories = {}"
   ]
  },
  {
   "cell_type": "code",
   "execution_count": 20,
   "id": "91b73a7b",
   "metadata": {},
   "outputs": [
    {
     "name": "stdout",
     "output_type": "stream",
     "text": [
      "Training model with relu activation...\n",
      "Epoch 1/20\n",
      "1028/1028 [==============================] - 2s 1ms/step - loss: 0.2248 - accuracy: 0.9393 - val_loss: 0.1851 - val_accuracy: 0.9553\n",
      "Epoch 2/20\n",
      "1028/1028 [==============================] - 1s 1ms/step - loss: 0.1741 - accuracy: 0.9579 - val_loss: 0.1799 - val_accuracy: 0.9551\n",
      "Epoch 3/20\n",
      "1028/1028 [==============================] - 1s 1ms/step - loss: 0.1711 - accuracy: 0.9580 - val_loss: 0.1783 - val_accuracy: 0.9555\n",
      "Epoch 4/20\n",
      "1028/1028 [==============================] - 1s 1ms/step - loss: 0.1694 - accuracy: 0.9581 - val_loss: 0.1769 - val_accuracy: 0.9555\n",
      "Epoch 5/20\n",
      "1028/1028 [==============================] - 1s 1ms/step - loss: 0.1687 - accuracy: 0.9582 - val_loss: 0.1768 - val_accuracy: 0.9555\n",
      "Epoch 6/20\n",
      "1028/1028 [==============================] - 1s 1ms/step - loss: 0.1683 - accuracy: 0.9581 - val_loss: 0.1764 - val_accuracy: 0.9555\n",
      "Epoch 7/20\n",
      "1028/1028 [==============================] - 1s 1ms/step - loss: 0.1677 - accuracy: 0.9581 - val_loss: 0.1758 - val_accuracy: 0.9555\n",
      "Epoch 8/20\n",
      "1028/1028 [==============================] - 1s 1ms/step - loss: 0.1668 - accuracy: 0.9581 - val_loss: 0.1785 - val_accuracy: 0.9555\n",
      "Epoch 9/20\n",
      "1028/1028 [==============================] - 1s 1ms/step - loss: 0.1667 - accuracy: 0.9581 - val_loss: 0.1761 - val_accuracy: 0.9555\n",
      "Epoch 10/20\n",
      "1028/1028 [==============================] - 1s 1ms/step - loss: 0.1661 - accuracy: 0.9581 - val_loss: 0.1743 - val_accuracy: 0.9555\n",
      "Epoch 11/20\n",
      "1028/1028 [==============================] - 1s 1ms/step - loss: 0.1652 - accuracy: 0.9581 - val_loss: 0.1732 - val_accuracy: 0.9555\n",
      "Epoch 12/20\n",
      "1028/1028 [==============================] - 1s 1ms/step - loss: 0.1646 - accuracy: 0.9581 - val_loss: 0.1756 - val_accuracy: 0.9555\n",
      "Epoch 13/20\n",
      "1028/1028 [==============================] - 1s 1ms/step - loss: 0.1637 - accuracy: 0.9581 - val_loss: 0.1745 - val_accuracy: 0.9555\n",
      "Epoch 14/20\n",
      "1028/1028 [==============================] - 1s 1ms/step - loss: 0.1629 - accuracy: 0.9581 - val_loss: 0.1748 - val_accuracy: 0.9555\n",
      "Epoch 15/20\n",
      "1028/1028 [==============================] - 1s 1ms/step - loss: 0.1624 - accuracy: 0.9581 - val_loss: 0.1720 - val_accuracy: 0.9555\n",
      "Epoch 16/20\n",
      "1028/1028 [==============================] - 1s 1ms/step - loss: 0.1620 - accuracy: 0.9581 - val_loss: 0.1704 - val_accuracy: 0.9555\n",
      "Epoch 17/20\n",
      "1028/1028 [==============================] - 1s 1ms/step - loss: 0.1611 - accuracy: 0.9581 - val_loss: 0.1715 - val_accuracy: 0.9555\n",
      "Epoch 18/20\n",
      "1028/1028 [==============================] - 1s 1ms/step - loss: 0.1606 - accuracy: 0.9581 - val_loss: 0.1706 - val_accuracy: 0.9555\n",
      "Epoch 19/20\n",
      "1028/1028 [==============================] - 1s 1ms/step - loss: 0.1599 - accuracy: 0.9581 - val_loss: 0.1699 - val_accuracy: 0.9555\n",
      "Epoch 20/20\n",
      "1028/1028 [==============================] - 1s 1ms/step - loss: 0.1594 - accuracy: 0.9581 - val_loss: 0.1685 - val_accuracy: 0.9555\n",
      "relu Activation - Test Loss: 0.16156207025051117 - Test Accuracy: 0.9581671357154846\n",
      "Training model with sigmoid activation...\n",
      "Epoch 1/20\n",
      "1028/1028 [==============================] - 2s 1ms/step - loss: 0.2876 - accuracy: 0.9080 - val_loss: 0.1941 - val_accuracy: 0.9554\n",
      "Epoch 2/20\n",
      "1028/1028 [==============================] - 1s 1ms/step - loss: 0.1777 - accuracy: 0.9580 - val_loss: 0.1841 - val_accuracy: 0.9555\n",
      "Epoch 3/20\n",
      "1028/1028 [==============================] - 1s 1ms/step - loss: 0.1720 - accuracy: 0.9581 - val_loss: 0.1780 - val_accuracy: 0.9555\n",
      "Epoch 4/20\n",
      "1028/1028 [==============================] - 1s 1ms/step - loss: 0.1704 - accuracy: 0.9581 - val_loss: 0.1831 - val_accuracy: 0.9555\n",
      "Epoch 5/20\n",
      "1028/1028 [==============================] - 1s 1ms/step - loss: 0.1692 - accuracy: 0.9581 - val_loss: 0.1753 - val_accuracy: 0.9555\n",
      "Epoch 6/20\n",
      "1028/1028 [==============================] - 1s 1ms/step - loss: 0.1684 - accuracy: 0.9581 - val_loss: 0.1763 - val_accuracy: 0.9555\n",
      "Epoch 7/20\n",
      "1028/1028 [==============================] - 1s 1ms/step - loss: 0.1677 - accuracy: 0.9581 - val_loss: 0.1756 - val_accuracy: 0.9555\n",
      "Epoch 8/20\n",
      "1028/1028 [==============================] - 1s 1ms/step - loss: 0.1677 - accuracy: 0.9581 - val_loss: 0.1742 - val_accuracy: 0.9555\n",
      "Epoch 9/20\n",
      "1028/1028 [==============================] - 1s 1ms/step - loss: 0.1675 - accuracy: 0.9581 - val_loss: 0.1749 - val_accuracy: 0.9555\n",
      "Epoch 10/20\n",
      "1028/1028 [==============================] - 1s 1ms/step - loss: 0.1671 - accuracy: 0.9581 - val_loss: 0.1760 - val_accuracy: 0.9555\n",
      "Epoch 11/20\n",
      "1028/1028 [==============================] - 1s 1ms/step - loss: 0.1667 - accuracy: 0.9581 - val_loss: 0.1806 - val_accuracy: 0.9555\n",
      "Epoch 12/20\n",
      "1028/1028 [==============================] - 1s 1ms/step - loss: 0.1668 - accuracy: 0.9581 - val_loss: 0.1780 - val_accuracy: 0.9555\n",
      "Epoch 13/20\n",
      "1028/1028 [==============================] - 1s 1ms/step - loss: 0.1667 - accuracy: 0.9581 - val_loss: 0.1749 - val_accuracy: 0.9555\n",
      "Epoch 14/20\n",
      "1028/1028 [==============================] - 1s 1ms/step - loss: 0.1661 - accuracy: 0.9581 - val_loss: 0.1739 - val_accuracy: 0.9555\n",
      "Epoch 15/20\n",
      "1028/1028 [==============================] - 1s 1ms/step - loss: 0.1659 - accuracy: 0.9581 - val_loss: 0.1755 - val_accuracy: 0.9555\n",
      "Epoch 16/20\n",
      "1028/1028 [==============================] - 1s 1ms/step - loss: 0.1660 - accuracy: 0.9581 - val_loss: 0.1734 - val_accuracy: 0.9555\n",
      "Epoch 17/20\n",
      "1028/1028 [==============================] - 1s 1ms/step - loss: 0.1660 - accuracy: 0.9581 - val_loss: 0.1735 - val_accuracy: 0.9555\n",
      "Epoch 18/20\n",
      "1028/1028 [==============================] - 1s 1ms/step - loss: 0.1657 - accuracy: 0.9581 - val_loss: 0.1733 - val_accuracy: 0.9555\n",
      "Epoch 19/20\n",
      "1028/1028 [==============================] - 1s 1ms/step - loss: 0.1657 - accuracy: 0.9581 - val_loss: 0.1742 - val_accuracy: 0.9555\n",
      "Epoch 20/20\n",
      "1028/1028 [==============================] - 1s 1ms/step - loss: 0.1654 - accuracy: 0.9581 - val_loss: 0.1792 - val_accuracy: 0.9555\n",
      "sigmoid Activation - Test Loss: 0.17192859947681427 - Test Accuracy: 0.9581671357154846\n",
      "Training model with tanh activation...\n",
      "Epoch 1/20\n",
      "1028/1028 [==============================] - 2s 1ms/step - loss: 0.2257 - accuracy: 0.9359 - val_loss: 0.1817 - val_accuracy: 0.9555\n",
      "Epoch 2/20\n",
      "1028/1028 [==============================] - 1s 1ms/step - loss: 0.1729 - accuracy: 0.9581 - val_loss: 0.1771 - val_accuracy: 0.9555\n",
      "Epoch 3/20\n",
      "1028/1028 [==============================] - 1s 1ms/step - loss: 0.1698 - accuracy: 0.9581 - val_loss: 0.1754 - val_accuracy: 0.9555\n",
      "Epoch 4/20\n",
      "1028/1028 [==============================] - 1s 1ms/step - loss: 0.1689 - accuracy: 0.9581 - val_loss: 0.1775 - val_accuracy: 0.9555\n",
      "Epoch 5/20\n",
      "1028/1028 [==============================] - 1s 1ms/step - loss: 0.1678 - accuracy: 0.9581 - val_loss: 0.1753 - val_accuracy: 0.9555\n",
      "Epoch 6/20\n",
      "1028/1028 [==============================] - 1s 1ms/step - loss: 0.1672 - accuracy: 0.9581 - val_loss: 0.1777 - val_accuracy: 0.9555\n",
      "Epoch 7/20\n",
      "1028/1028 [==============================] - 1s 1ms/step - loss: 0.1663 - accuracy: 0.9581 - val_loss: 0.1737 - val_accuracy: 0.9555\n",
      "Epoch 8/20\n",
      "1028/1028 [==============================] - 1s 1ms/step - loss: 0.1657 - accuracy: 0.9581 - val_loss: 0.1735 - val_accuracy: 0.9555\n",
      "Epoch 9/20\n",
      "1028/1028 [==============================] - 1s 1ms/step - loss: 0.1656 - accuracy: 0.9581 - val_loss: 0.1756 - val_accuracy: 0.9555\n",
      "Epoch 10/20\n",
      "1028/1028 [==============================] - 1s 1ms/step - loss: 0.1651 - accuracy: 0.9581 - val_loss: 0.1745 - val_accuracy: 0.9555\n",
      "Epoch 11/20\n",
      "1028/1028 [==============================] - 1s 1ms/step - loss: 0.1647 - accuracy: 0.9581 - val_loss: 0.1725 - val_accuracy: 0.9555\n",
      "Epoch 12/20\n",
      "1028/1028 [==============================] - 1s 1ms/step - loss: 0.1640 - accuracy: 0.9581 - val_loss: 0.1751 - val_accuracy: 0.9555\n",
      "Epoch 13/20\n",
      "1028/1028 [==============================] - 1s 1ms/step - loss: 0.1637 - accuracy: 0.9581 - val_loss: 0.1750 - val_accuracy: 0.9555\n",
      "Epoch 14/20\n",
      "1028/1028 [==============================] - 1s 1ms/step - loss: 0.1631 - accuracy: 0.9581 - val_loss: 0.1728 - val_accuracy: 0.9555\n",
      "Epoch 15/20\n"
     ]
    },
    {
     "name": "stdout",
     "output_type": "stream",
     "text": [
      "1028/1028 [==============================] - 1s 1ms/step - loss: 0.1625 - accuracy: 0.9581 - val_loss: 0.1718 - val_accuracy: 0.9555\n",
      "Epoch 16/20\n",
      "1028/1028 [==============================] - 1s 1ms/step - loss: 0.1621 - accuracy: 0.9581 - val_loss: 0.1738 - val_accuracy: 0.9555\n",
      "Epoch 17/20\n",
      "1028/1028 [==============================] - 1s 1ms/step - loss: 0.1616 - accuracy: 0.9581 - val_loss: 0.1713 - val_accuracy: 0.9555\n",
      "Epoch 18/20\n",
      "1028/1028 [==============================] - 1s 1ms/step - loss: 0.1610 - accuracy: 0.9581 - val_loss: 0.1702 - val_accuracy: 0.9555\n",
      "Epoch 19/20\n",
      "1028/1028 [==============================] - 1s 1ms/step - loss: 0.1607 - accuracy: 0.9581 - val_loss: 0.1704 - val_accuracy: 0.9555\n",
      "Epoch 20/20\n",
      "1028/1028 [==============================] - 1s 1ms/step - loss: 0.1602 - accuracy: 0.9581 - val_loss: 0.1720 - val_accuracy: 0.9555\n",
      "tanh Activation - Test Loss: 0.16597014665603638 - Test Accuracy: 0.9581671357154846\n"
     ]
    }
   ],
   "source": [
    "# Train a model for each activation function\n",
    "for activation in activations:\n",
    "    print(f\"Training model with {activation} activation...\")\n",
    "    model = create_model(activation)\n",
    "    history = model.fit(X_train_encoded, y_train, epochs=20, validation_split=0.2, verbose=1)\n",
    "    \n",
    "    # Save the model and history\n",
    "    models[activation] = model\n",
    "    histories[activation] = history\n",
    "\n",
    "    # Evaluate on the test set\n",
    "    scores = model.evaluate(X_test_encoded, y_test, verbose=0)\n",
    "    print(f\"{activation} Activation - Test Loss: {scores[0]} - Test Accuracy: {scores[1]}\")"
   ]
  },
  {
   "cell_type": "code",
   "execution_count": 21,
   "id": "4767d7bb",
   "metadata": {},
   "outputs": [
    {
     "data": {
      "image/png": "[encoded data removed]",
      "text/plain": [
       "<Figure size 1400x600 with 1 Axes>"
      ]
     },
     "metadata": {},
     "output_type": "display_data"
    }
   ],
   "source": [
    "\n",
    "import matplotlib.pyplot as plt\n",
    "\n",
    "plt.figure(figsize=(14, 6))\n",
    "\n",
    "# Summarize history for accuracy\n",
    "for activation in activations:\n",
    "    plt.plot(histories[activation].history['accuracy'], label=f'Train Accuracy ({activation})')\n",
    "    plt.plot(histories[activation].history['val_accuracy'], label=f'Validation Accuracy ({activation})', linestyle='--')\n",
    "\n",
    "plt.title('Model Accuracy with Different Activation Functions')\n",
    "plt.ylabel('Accuracy')\n",
    "plt.xlabel('Epoch')\n",
    "plt.legend()\n",
    "plt.show()\n",
    "\n",
    "\n",
    "plt.figure(figsize=(14, 6))\n",
    "\n",
    "for activation in activations:\n",
    "    plt.plot(histories[activation].history['loss'], label=f'Train Loss ({activation})')\n",
    "    plt.plot(histories[activation].history['val_loss'], label=f'Validation Loss ({activation})', linestyle='--')\n",
    "\n",
    "plt.title('Model Loss with Different Activation Functions')\n",
    "plt.ylabel('Loss')\n",
    "plt.xlabel('Epoch')\n",
    "plt.legend()\n",
    "\n",
    "plt.savefig('/Users/kavyamuraliparthasarathy/Desktop/Plots/model_accuracy.png')  \n",
    "# Save the figure as a PNG\n",
    "\n",
    "\n",
    "plt.close()  #\n",
    "plt.show()  \n"
   ]
  }
 ],
 "metadata": {
  "kernelspec": {
   "display_name": "Python 3 (ipykernel)",
   "language": "python",
   "name": "python3"
  },
  "language_info": {
   "codemirror_mode": {
    "name": "ipython",
    "version": 3
   },
   "file_extension": ".py",
   "mimetype": "text/x-python",
   "name": "python",
   "nbconvert_exporter": "python",
   "pygments_lexer": "ipython3",
   "version": "3.11.5"
  }
 },
 "nbformat": 4,
 "nbformat_minor": 5
}
